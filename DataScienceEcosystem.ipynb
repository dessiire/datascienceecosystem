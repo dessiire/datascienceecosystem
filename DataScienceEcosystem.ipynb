{
  "metadata": {
    "kernelspec": {
      "name": "python",
      "display_name": "Python (Pyodide)",
      "language": "python"
    },
    "language_info": {
      "codemirror_mode": {
        "name": "python",
        "version": 3
      },
      "file_extension": ".py",
      "mimetype": "text/x-python",
      "name": "python",
      "nbconvert_exporter": "python",
      "pygments_lexer": "ipython3",
      "version": "3.8"
    }
  },
  "nbformat_minor": 5,
  "nbformat": 4,
  "cells": [
    {
      "id": "078c62f1-6020-45bc-a825-ff5399e3617d",
      "cell_type": "markdown",
      "source": "# Data Science Tools and Ecosystem",
      "metadata": {}
    },
    {
      "id": "1b4e63a1-2996-4934-abc3-3b446acb71da",
      "cell_type": "markdown",
      "source": "In this notebook, Data Science Tools and Ecosystem is a group of resources, people, and technologies that assist companies in applying machine learning and data science to address challenges.",
      "metadata": {}
    },
    {
      "id": "a3abc1aa-54b1-42a4-a121-d75b9a5708f1",
      "cell_type": "markdown",
      "source": "Some of the popular languages that Data Scientists use are\n\n1. Python\n2. R\n3. Java\n4. C++\n5. Julia\n6. Scala\n7. SQL\n8. Java Script",
      "metadata": {}
    },
    {
      "id": "4f8a834a-610a-42a4-8b04-79c5bb52b4b1",
      "cell_type": "markdown",
      "source": "Some of the commonly used libraries used by Data Scientists include\n\n1. Pandas\n2. NumPy\n3. MatPlotlib\n4. Seaborn\n5. Scikit-learn\n6. Keras\n7. TensorFlow\n8. PyTorch",
      "metadata": {}
    },
    {
      "id": "2332d791-862a-4692-999f-9bc3873d9115",
      "cell_type": "markdown",
      "source": "| Data Science Tools |\n|----------|\n| MySQL |\n| PostgreSQL |\n| MongoDB |\n| Apache |",
      "metadata": {}
    },
    {
      "id": "b428ad36-66ca-4c26-99d0-2946779059b6",
      "cell_type": "markdown",
      "source": "### Below are a few examples of evaluating arithmetic expressions in Python",
      "metadata": {}
    },
    {
      "id": "9f49d4ac-8e24-4af9-81ed-21d004b7f3df",
      "cell_type": "code",
      "source": "(3*4)+5\n#This a simple arithmetic expression to mutiply then add integers",
      "metadata": {
        "trusted": true
      },
      "outputs": [
        {
          "execution_count": 4,
          "output_type": "execute_result",
          "data": {
            "text/plain": "17"
          },
          "metadata": {}
        }
      ],
      "execution_count": 4
    },
    {
      "id": "fd2cb055-cb03-44c4-b8f6-c0878ae5c150",
      "cell_type": "code",
      "source": "#This will convert 200 minutes to hours by diving by 60\n\n200/60",
      "metadata": {
        "trusted": true
      },
      "outputs": [
        {
          "execution_count": 5,
          "output_type": "execute_result",
          "data": {
            "text/plain": "3.3333333333333335"
          },
          "metadata": {}
        }
      ],
      "execution_count": 5
    },
    {
      "id": "b14ffb96-68eb-4012-87bc-9f48f1db9a2d",
      "cell_type": "markdown",
      "source": "**Objectives:**\n- Python\n- R\n- Java",
      "metadata": {}
    },
    {
      "id": "55ba3f6c-140d-42b9-9962-90442651d65a",
      "cell_type": "markdown",
      "source": "## Author\nDesire Ghiotto",
      "metadata": {}
    },
    {
      "id": "1f5313cf-96e5-425b-92a2-7c8c52f66967",
      "cell_type": "code",
      "source": "",
      "metadata": {
        "trusted": true
      },
      "outputs": [],
      "execution_count": null
    }
  ]
}